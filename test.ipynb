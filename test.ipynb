{
 "cells": [
  {
   "cell_type": "code",
   "execution_count": 1,
   "metadata": {},
   "outputs": [],
   "source": [
    "import random\n",
    "import password_generator as pg\n",
    "import person_generator as person"
   ]
  },
  {
   "cell_type": "code",
   "execution_count": 2,
   "metadata": {},
   "outputs": [
    {
     "name": "stdout",
     "output_type": "stream",
     "text": [
      "ysD7-q3ty-Si1O-MXYE\n"
     ]
    }
   ],
   "source": [
    "password = pg.get_simple_password()\n",
    "print(password)"
   ]
  },
  {
   "cell_type": "code",
   "execution_count": 3,
   "metadata": {},
   "outputs": [
    {
     "name": "stdout",
     "output_type": "stream",
     "text": [
      "NbRW#tmGi%c5HS(CpMn\n"
     ]
    }
   ],
   "source": [
    "password = pg.get_strong_password()\n",
    "print(password)"
   ]
  },
  {
   "cell_type": "code",
   "execution_count": 4,
   "metadata": {},
   "outputs": [
    {
     "name": "stdout",
     "output_type": "stream",
     "text": [
      "first name: Isabel\n",
      "last name: Jean\n",
      "login: yzfJsDhUV3\n"
     ]
    }
   ],
   "source": [
    "print('first name:', person.get_first_name_en())\n",
    "print('last name:', person.get_last_name_en())\n",
    "print('login:', person.get_simple_login())"
   ]
  },
  {
   "cell_type": "code",
   "execution_count": 5,
   "metadata": {},
   "outputs": [],
   "source": [
    "first_names = ['Aaron', 'Abraham', 'Adam', 'Adrian', 'Aidan','Alan','Albert','Alejandro','Alex','Alexander','Alfred','Andrew','Angel',\\\n",
    "            'Anthony','Antonio','Ashton','Austin','Abigail','Ada','Adelina','Agatha','Alexa','Alexandra','Alexis','Alise','Allison',\\\n",
    "            'Alyssa','Amanda','Amber','Amelia','Angelina','Anita','Ann','Ariana','Arianna','Ashley','Audrey','Autumn','Ava','Avery',\\\n",
    "            'Benjamin','Bernard','Blake','Brandon','Brian','Bruce','Bryan','Bailey','Barbara','Beatrice','Belinda','Brianna','Bridjet',\\\n",
    "            'Brooke','Cameron','Carl','Carlos','Charles','Christopher','Cole','Connor','Caleb','Carter','Chase','Christian','Clifford',\\\n",
    "            'Cody','Colin','Curtis','Cyrus','Caroline','Catherine','Cecilia','Celia','Chloe','Christine','Claire','Daniel','David',\\\n",
    "            'Dennis','Devin','Diego','Dominic','Donald','Douglas','Dylan','Daisy','Danielle','Deborah','Delia','Destiny','Diana',\\\n",
    "            'Dorothy','Edward','Elijah','Eric','Ethan','Evan','Eleanor','Elizabeth','Ella','Emily','Emma','Erin','Evelyn','Francis',\\\n",
    "            'Fred','Faith','Fiona','Florence','Freda','Gabriel','Gavin','Geoffrey','George','Gerld','Gilbert','Gordon','Graham','Gregory',\\\n",
    "            'Gloria','Gabriella','Gabrielle','Gladys','Grace','Harold','Harry','Hayden','Henry','Herbert','Horace','Howard','Hugh',\\\n",
    "            'Hunter','Hailey','Haley','Hannah','Helen','Ian','Isaac','Isaiah','Isabel','Isabella','Jack','Jackson','Jacob','Jaden','Jake',\\\n",
    "            'James','Jason','Jayden','Jeffery','Jeremiah','Jesse','Jesus','John','Jonathan','Jordan','Jose','Joseph','Joshua','Juan',\\\n",
    "            'Julian','Justin','Jacqueline','Jada','Jane','Jasmine','Jenna','Jennifer','Jessica','Jocelyn','Jordan','Josephine','Joyce',\\\n",
    "            'Julia','Keith','Kevin','Kyle','Kaitlyn','Katelyn','Katherine','Kathryn','Kayla','Kaylee','Kimberly','Kylie','Landon',\\\n",
    "            'Lawrence','Leonars','Lewis','Logan','Louis','Lucas','Luke','Laura','Lauren','Leah','Leonora','Leslie','Lillian','Lily',\\\n",
    "            'Linda','Lorna','Luccile','Lucy','Lynn','Malcolm','Martin','Mason','Matthew','Michael','Miguel','Miles','Morgan','Mabel',\\\n",
    "            'Mackenzie','Madeline','Madison','Makayla','Margaret','Maria','Marisa','Marjorie','Mary','Maya','Megan','Melanie','Melissa',\\\n",
    "            'Mia','Michelle','Mildred','Molly','Monica','Nathan','Nathaniel','Neil','Nicholas','Noah','Norman','Nancy','Natalie','Nicole',\\\n",
    "            'Nora','Oliver','Oscar','Oswald','Owen','Olivia','Patrick','Peter','Philip','Paige','Pamela','Patricia','Pauline','Penelope',\\\n",
    "            'Priscilla','Ralph','Raymond','Reginald','Richard','Robert','Rodrigo','Roger','Ronald','Ryan','Rachel','Rebecca','Riley',\\\n",
    "            'Rita','Rosalind','Rose','Samuel','Sean','Sebastian','Seth','Simon','Stanley','Steven','Samantha','Sandra','Sara','Sarah',\\\n",
    "            'Savannah','Sharon','Sheila','Shirley','Sierra','Sofia','Sophia','Stephanie','Susan','Sybil','Sydney','Sylvia','Thomas',\\\n",
    "            'Timothy','Tyler','Taylor','Trinity','Vanessa','Victoria','Violet', 'Virginia', 'Wallace', 'Walter', 'William',\\\n",
    "            'Wyatt', 'Winifred', 'Xavier', 'Yvonne', 'Zachary', 'Zoe']\n",
    "\n",
    "last_names = ['Adams','Aldridge','Alexander','Alison','Alix','Allen','Anderson','Bailey','Baker','Barber','Barlow','Barrett',\\\n",
    "    'Bee','Bell','Bennett','Benson','Bentley','Beverly','Black','Bradley,''Brett','Bronte','Brooke','Brooks','Brown','Bruce',\\\n",
    "    'Burgess','Burney','Burns','Byrne','Campbell','Carr','Carson','Carter','Clark','Cole','Collins','Cooper','Cox','Crawford',\\\n",
    "    'Crystal','Davis','Day','Dean','Dee','Eden','Edwards','Ellis','Evans','Farrell','Fisher','Florence','Ford','Foster','Franklin',\\\n",
    "    'George','Gibson','Gordon','Graham','Grant','Green','Haley','Hall','Harris','Hart','Hicks','Hill','Horne','Howard','Hughes',\\\n",
    "    'Hunt','Jackson','James','Jean','Johnson','Jones','Jordan','Joy','Kimberly','King','Knight','Lane','Lewis','Lindsay','Little',\\\n",
    "    'Love','Lynn','Martin','Meredith','Miller','Mills','Mitchell','Moore','Morgan','Nelson','Norman','Palmer','Peters','Phillips',\\\n",
    "    'Ray','Roberts','Robin','Robinson','Scott','Simon','Smith','Starr','Stevens','Stone','Taylor','Thomas','Toni','Tucker','Walker',\\\n",
    "    'Wallace','Ward','Washington','Waters','West','White','Williams','Wilson','Wright','Young']"
   ]
  },
  {
   "cell_type": "code",
   "execution_count": 6,
   "metadata": {},
   "outputs": [
    {
     "name": "stdout",
     "output_type": "stream",
     "text": [
      "314 123\n"
     ]
    }
   ],
   "source": [
    "print(len(first_names), len(last_names))"
   ]
  },
  {
   "cell_type": "code",
   "execution_count": 7,
   "metadata": {},
   "outputs": [
    {
     "data": {
      "text/plain": [
       "['Ariana']"
      ]
     },
     "execution_count": 7,
     "metadata": {},
     "output_type": "execute_result"
    }
   ],
   "source": [
    "random.sample(first_names, 1)"
   ]
  }
 ],
 "metadata": {
  "kernelspec": {
   "display_name": "Python 3",
   "language": "python",
   "name": "python3"
  },
  "language_info": {
   "codemirror_mode": {
    "name": "ipython",
    "version": 3
   },
   "file_extension": ".py",
   "mimetype": "text/x-python",
   "name": "python",
   "nbconvert_exporter": "python",
   "pygments_lexer": "ipython3",
   "version": "3.11.1"
  },
  "orig_nbformat": 4,
  "vscode": {
   "interpreter": {
    "hash": "955b9afe3b1b81b78f4e63cc5e5a7bc1d121d1394870930516ac00dea2a26786"
   }
  }
 },
 "nbformat": 4,
 "nbformat_minor": 2
}
