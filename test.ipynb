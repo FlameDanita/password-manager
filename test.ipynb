{
 "cells": [
  {
   "cell_type": "code",
   "execution_count": 1,
   "metadata": {},
   "outputs": [],
   "source": [
    "import random\n",
    "import password_generator as pg"
   ]
  },
  {
   "cell_type": "code",
   "execution_count": 2,
   "metadata": {},
   "outputs": [
    {
     "name": "stdout",
     "output_type": "stream",
     "text": [
      "Tn7O-ogy2-Rur4-DkZt\n"
     ]
    }
   ],
   "source": [
    "password = pg.get_simple_password()\n",
    "print(password)"
   ]
  },
  {
   "cell_type": "code",
   "execution_count": 5,
   "metadata": {},
   "outputs": [
    {
     "name": "stdout",
     "output_type": "stream",
     "text": [
      "aneN(snRQ+vLnd$UZrm\n"
     ]
    }
   ],
   "source": [
    "password = pg.get_strong_password()\n",
    "print(password)"
   ]
  }
 ],
 "metadata": {
  "kernelspec": {
   "display_name": "Python 3",
   "language": "python",
   "name": "python3"
  },
  "language_info": {
   "codemirror_mode": {
    "name": "ipython",
    "version": 3
   },
   "file_extension": ".py",
   "mimetype": "text/x-python",
   "name": "python",
   "nbconvert_exporter": "python",
   "pygments_lexer": "ipython3",
   "version": "3.11.0"
  },
  "orig_nbformat": 4,
  "vscode": {
   "interpreter": {
    "hash": "6beef5ba6e6066e2eca26c3238fb752a2b2f561695d75d02aa01cbdf48771d57"
   }
  }
 },
 "nbformat": 4,
 "nbformat_minor": 2
}
